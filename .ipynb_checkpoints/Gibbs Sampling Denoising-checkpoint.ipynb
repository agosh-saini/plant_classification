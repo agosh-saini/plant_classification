{
 "cells": [
  {
   "cell_type": "markdown",
   "id": "c2413242",
   "metadata": {},
   "source": [
    "# Removing Noise From Images Using Gibbs Sampling"
   ]
  },
  {
   "cell_type": "markdown",
   "id": "2e8bbb71",
   "metadata": {},
   "source": [
    "add description here of what it is "
   ]
  },
  {
   "cell_type": "markdown",
   "id": "d37d434f",
   "metadata": {},
   "source": [
    "Importing the relevant libraries"
   ]
  },
  {
   "cell_type": "code",
   "execution_count": 8,
   "id": "78c9ccfc",
   "metadata": {},
   "outputs": [],
   "source": [
    "import numpy as np\n",
    "import matplotlib.pyplot as plt\n",
    "import cv2"
   ]
  },
  {
   "cell_type": "markdown",
   "id": "5977c420",
   "metadata": {},
   "source": [
    "Lets create a gibbs function"
   ]
  },
  {
   "cell_type": "code",
   "execution_count": 9,
   "id": "bf685a12",
   "metadata": {},
   "outputs": [],
   "source": [
    "def gibbs_denoising(img, n_steps, beta, interaction_param):\n",
    "    \n",
    "    # height and width give us how much we need to iterate over\n",
    "    \n",
    "    height, width = np.shape(img)\n",
    "    f_img = np.copy(img)\n",
    "    \n",
    "    # repeat iteration nsteps time\n",
    "    for n in range(n_steps):\n",
    "        \n",
    "        # this is where we iterate over the image\n",
    "        for i in range(height):\n",
    "            for j in range(width):\n",
    "                \n",
    "                # getting current energy of the system\n",
    "                # since we have no energy function here, lets say energy = f_img[i,j]*img[i,j]\n",
    "                E_prev = f_img[i][j] * img[i][j]\n",
    "                \n",
    "                # modifying the energy based on the surrounding pixels - this is the Ising model\n",
    "                for px, py in [[1, 0], [-1, 0], [0, 1], [0, -1]]:\n",
    "                    \n",
    "                    # ensuring bounds are not broken\n",
    "                    if (i+px) >= 0 and (i+px) < height:\n",
    "                        if (j+py) >= 0 and (j+py) < width:\n",
    "                            \n",
    "                            # calcualting E_prev again with interaction \n",
    "                            E_prev -= interaction_param * f_img[i+px][j+py] * img[i+px][j+py]\n",
    "                \n",
    "                # check energy again if the pixel is flipped\n",
    "                \n",
    "                f_img[i][j] = -1 * f_img[i][j]\n",
    "\n",
    "                # getting energy of the modified system\n",
    "                E_new = f_img[i][j] * img[i][j]\n",
    "                \n",
    "                # modifying the energy based on the surrounding pixels - this is the Ising model\n",
    "                for px, py in [[1, 0], [-1, 0], [0, 1], [0, -1]]:\n",
    "                    \n",
    "                    # ensuring bounds are not broken\n",
    "                    if (i+px) >= 0 and (i+px) < height:\n",
    "                        if (j+py) >= 0 and (j+py) < width:\n",
    "                            \n",
    "                            # calcualting E_prev again with interaction \n",
    "                            E_new -= interaction_param * f_img[i+px][j+py] * img[i+px][j+py]\n",
    "                \n",
    "                # calculating the probability from boltzman's distribution\n",
    "                prob = np.exp(-beta * (E_new - E_prev))\n",
    "                \n",
    "                # comparing to a random value and revert the result to original if cond met\n",
    "                if np.random.uniform() > prob:\n",
    "                    f_img[i][j] = -1 * f_img[i][j]\n",
    "                    \n",
    "    return f_img\n",
    "                "
   ]
  },
  {
   "cell_type": "markdown",
   "id": "ed03215d",
   "metadata": {},
   "source": [
    "Lets test the function out, we will use the camera man picture as the base photo"
   ]
  },
  {
   "cell_type": "code",
   "execution_count": null,
   "id": "1956c03e",
   "metadata": {},
   "outputs": [],
   "source": [
    "# getting the image\n",
    "img = cv2.imread('architecture1.jpg')"
   ]
  }
 ],
 "metadata": {
  "kernelspec": {
   "display_name": "Python 3 (ipykernel)",
   "language": "python",
   "name": "python3"
  },
  "language_info": {
   "codemirror_mode": {
    "name": "ipython",
    "version": 3
   },
   "file_extension": ".py",
   "mimetype": "text/x-python",
   "name": "python",
   "nbconvert_exporter": "python",
   "pygments_lexer": "ipython3",
   "version": "3.10.1"
  }
 },
 "nbformat": 4,
 "nbformat_minor": 5
}
